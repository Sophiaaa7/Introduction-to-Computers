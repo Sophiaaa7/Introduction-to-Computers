{
  "nbformat": 4,
  "nbformat_minor": 0,
  "metadata": {
    "colab": {
      "provenance": [],
      "authorship_tag": "ABX9TyOLAIM7gZPUiENpRPXipyYU",
      "include_colab_link": true
    },
    "kernelspec": {
      "name": "python3",
      "display_name": "Python 3"
    },
    "language_info": {
      "name": "python"
    }
  },
  "cells": [
    {
      "cell_type": "markdown",
      "metadata": {
        "id": "view-in-github",
        "colab_type": "text"
      },
      "source": [
        "<a href=\"https://colab.research.google.com/github/Sophiaaa7/Introduction-to-Computers/blob/main/0524.ipynb\" target=\"_parent\"><img src=\"https://colab.research.google.com/assets/colab-badge.svg\" alt=\"Open In Colab\"/></a>"
      ]
    },
    {
      "cell_type": "code",
      "execution_count": 1,
      "metadata": {
        "id": "oC7yyWyN288e"
      },
      "outputs": [],
      "source": [
        "list3 = range(4)"
      ]
    },
    {
      "cell_type": "code",
      "source": [
        "list(list3)"
      ],
      "metadata": {
        "colab": {
          "base_uri": "https://localhost:8080/"
        },
        "id": "GSiiRUNI3GN3",
        "outputId": "9aadd67a-9189-4a15-fe6f-16a6dfd4fac7"
      },
      "execution_count": 2,
      "outputs": [
        {
          "output_type": "execute_result",
          "data": {
            "text/plain": [
              "[0, 1, 2, 3]"
            ]
          },
          "metadata": {},
          "execution_count": 2
        }
      ]
    },
    {
      "cell_type": "code",
      "source": [
        "list4 = range(1,5)"
      ],
      "metadata": {
        "id": "1QhQX2ST3I1D"
      },
      "execution_count": 3,
      "outputs": []
    },
    {
      "cell_type": "code",
      "source": [
        "list(list4)"
      ],
      "metadata": {
        "colab": {
          "base_uri": "https://localhost:8080/"
        },
        "id": "rrgumG5d3P9S",
        "outputId": "17dc0766-14d6-4647-fb2d-f2ce64542431"
      },
      "execution_count": 4,
      "outputs": [
        {
          "output_type": "execute_result",
          "data": {
            "text/plain": [
              "[1, 2, 3, 4]"
            ]
          },
          "metadata": {},
          "execution_count": 4
        }
      ]
    },
    {
      "cell_type": "code",
      "source": [
        "c = list(range(3, 8, 1))"
      ],
      "metadata": {
        "id": "owB5NePASv0n"
      },
      "execution_count": 4,
      "outputs": []
    },
    {
      "cell_type": "code",
      "source": [
        "list(c)"
      ],
      "metadata": {
        "colab": {
          "base_uri": "https://localhost:8080/"
        },
        "id": "DUksmYDZTyNP",
        "outputId": "523ba669-f1e6-401c-f1af-9b48060255e9"
      },
      "execution_count": 5,
      "outputs": [
        {
          "output_type": "execute_result",
          "data": {
            "text/plain": [
              "[3, 4, 5, 6, 7]"
            ]
          },
          "metadata": {},
          "execution_count": 5
        }
      ]
    },
    {
      "cell_type": "code",
      "source": [
        "d = list(range(3, 8, 2))"
      ],
      "metadata": {
        "id": "JqS5vEx4T7AL"
      },
      "execution_count": 7,
      "outputs": []
    },
    {
      "cell_type": "code",
      "source": [
        "list(d)"
      ],
      "metadata": {
        "colab": {
          "base_uri": "https://localhost:8080/"
        },
        "id": "I1WWYEHxUGOn",
        "outputId": "ed4aa658-f10d-421d-e185-897abe6fbf29"
      },
      "execution_count": 8,
      "outputs": [
        {
          "output_type": "execute_result",
          "data": {
            "text/plain": [
              "[3, 5, 7]"
            ]
          },
          "metadata": {},
          "execution_count": 8
        }
      ]
    },
    {
      "cell_type": "code",
      "source": [
        "e = list(range(8, 3, -1))"
      ],
      "metadata": {
        "id": "e7NAstSYUKo4"
      },
      "execution_count": 9,
      "outputs": []
    },
    {
      "cell_type": "code",
      "source": [
        "list(e)"
      ],
      "metadata": {
        "colab": {
          "base_uri": "https://localhost:8080/"
        },
        "id": "R5S-dBLPUS_v",
        "outputId": "68069b3b-b106-452a-9d2b-423416fafb38"
      },
      "execution_count": 10,
      "outputs": [
        {
          "output_type": "execute_result",
          "data": {
            "text/plain": [
              "[8, 7, 6, 5, 4]"
            ]
          },
          "metadata": {},
          "execution_count": 10
        }
      ]
    },
    {
      "cell_type": "code",
      "source": [
        "n = int(input(\"請輸入一個正整數：\"))\n",
        "\n",
        "# 使用 range 函式產生數列，起始值為 1，終止值為 n+1 (不包含 n+1)，間隔值為 1\n",
        "sequence = list(range(1, n+1))\n",
        "\n",
        "print(\"數列：\", sequence)\n"
      ],
      "metadata": {
        "colab": {
          "base_uri": "https://localhost:8080/"
        },
        "id": "3gvOmeKHU-qj",
        "outputId": "93c60db6-f62d-4160-c3c5-910fbbbf3da2"
      },
      "execution_count": 13,
      "outputs": [
        {
          "output_type": "stream",
          "name": "stdout",
          "text": [
            "請輸入一個正整數：5\n",
            "數列： [1, 2, 3, 4, 5]\n"
          ]
        }
      ]
    },
    {
      "cell_type": "code",
      "source": [
        "n = int(input(\"請輸入一個正整數：\"))\n",
        "\n",
        "# 使用 range 函式產生數列，起始值為 1，終止值為 n+1 (不包含 n+1)，間隔值為 1\n",
        "sequence = list(range(1, n+1))\n",
        "\n",
        "print(\"數列：\", sequence)\n"
      ],
      "metadata": {
        "colab": {
          "base_uri": "https://localhost:8080/"
        },
        "id": "nRQO4sTrVFZ-",
        "outputId": "37d62a26-164c-4f70-a898-09dbf97da501"
      },
      "execution_count": 14,
      "outputs": [
        {
          "output_type": "stream",
          "name": "stdout",
          "text": [
            "請輸入一個正整數：12\n",
            "數列： [1, 2, 3, 4, 5, 6, 7, 8, 9, 10, 11, 12]\n"
          ]
        }
      ]
    },
    {
      "cell_type": "code",
      "source": [
        "n = int(input(\"請輸入一個正整數：\"))\n",
        "\n",
        "total = 0\n",
        "\n",
        "for num in range(1, n+1):\n",
        "    total += num\n",
        "\n",
        "print(\"由 1 到\", n, \"的總和為：\", total)"
      ],
      "metadata": {
        "colab": {
          "base_uri": "https://localhost:8080/"
        },
        "id": "fop5tO_NVf-9",
        "outputId": "e2906878-f1c3-411d-d767-bf05ef8a5742"
      },
      "execution_count": 15,
      "outputs": [
        {
          "output_type": "stream",
          "name": "stdout",
          "text": [
            "請輸入一個正整數：10\n",
            "由 1 到 10 的總和為： 55\n"
          ]
        }
      ]
    },
    {
      "cell_type": "code",
      "source": [
        "n = int(input(\"請輸入一個正整數：\"))\n",
        "\n",
        "total = 0\n",
        "\n",
        "for num in range(1, n+1):\n",
        "    total += num\n",
        "\n",
        "print(\"由 1 到\", n, \"的總和為：\", total)"
      ],
      "metadata": {
        "colab": {
          "base_uri": "https://localhost:8080/"
        },
        "id": "mcLJ5Dl6Vrpv",
        "outputId": "47ed4b75-f3c9-41e4-d60c-2435b1de4dc2"
      },
      "execution_count": 17,
      "outputs": [
        {
          "output_type": "stream",
          "name": "stdout",
          "text": [
            "請輸入一個正整數：50\n",
            "由 1 到 50 的總和為： 1275\n"
          ]
        }
      ]
    },
    {
      "cell_type": "code",
      "source": [
        "n = int(input(\"請輸入一個正整數：\"))\n",
        "\n",
        "total = 0\n",
        "for i in range(1, n+1):\n",
        "    total += i\n",
        "    print(f\"1到{i}的整數和為：{total}\")\n"
      ],
      "metadata": {
        "colab": {
          "base_uri": "https://localhost:8080/"
        },
        "id": "M4Y_dEZISaj0",
        "outputId": "5f058ff1-1496-44b3-d418-66eb60467f8a"
      },
      "execution_count": 2,
      "outputs": [
        {
          "output_type": "stream",
          "name": "stdout",
          "text": [
            "請輸入一個正整數：10\n",
            "1到1的整數和為：1\n",
            "1到2的整數和為：3\n",
            "1到3的整數和為：6\n",
            "1到4的整數和為：10\n",
            "1到5的整數和為：15\n",
            "1到6的整數和為：21\n",
            "1到7的整數和為：28\n",
            "1到8的整數和為：36\n",
            "1到9的整數和為：45\n",
            "1到10的整數和為：55\n"
          ]
        }
      ]
    }
  ]
}