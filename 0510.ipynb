{
  "nbformat": 4,
  "nbformat_minor": 0,
  "metadata": {
    "colab": {
      "provenance": [],
      "authorship_tag": "ABX9TyP3uaw3k0Q/VGPZW3fyScTM",
      "include_colab_link": true
    },
    "kernelspec": {
      "name": "python3",
      "display_name": "Python 3"
    },
    "language_info": {
      "name": "python"
    }
  },
  "cells": [
    {
      "cell_type": "markdown",
      "metadata": {
        "id": "view-in-github",
        "colab_type": "text"
      },
      "source": [
        "<a href=\"https://colab.research.google.com/github/Sophiaaa7/Introduction-to-Computers/blob/main/0510.ipynb\" target=\"_parent\"><img src=\"https://colab.research.google.com/assets/colab-badge.svg\" alt=\"Open In Colab\"/></a>"
      ]
    },
    {
      "cell_type": "code",
      "source": [
        "score = int(input(\"請輸入分數:\"))\n",
        "if score >= 60:\n",
        "  print(\"及格\")\n",
        "else:\n",
        "  print(\"不及格\")"
      ],
      "metadata": {
        "colab": {
          "base_uri": "https://localhost:8080/"
        },
        "id": "jPomW6uVmX90",
        "outputId": "d419b42d-ca27-400d-df8a-c7b5bba10e51"
      },
      "execution_count": 7,
      "outputs": [
        {
          "output_type": "stream",
          "name": "stdout",
          "text": [
            "請輸入分數:40\n",
            "不及格\n"
          ]
        }
      ]
    },
    {
      "cell_type": "code",
      "execution_count": 3,
      "metadata": {
        "colab": {
          "base_uri": "https://localhost:8080/"
        },
        "id": "wemZBI8rxREB",
        "outputId": "4b0d41f1-e406-45e3-ae48-d672eda77cbd"
      },
      "outputs": [
        {
          "output_type": "stream",
          "name": "stdout",
          "text": [
            "請輸入密碼：1111\n",
            "密碼不正確\n"
          ]
        }
      ],
      "source": [
        "password = int(input(\"請輸入密碼：\"))\n",
        "if password == 1234:\n",
        "  print(\"密碼不正確\")\n",
        "else:\n",
        "  print(\"密碼不正確\")"
      ]
    },
    {
      "cell_type": "code",
      "source": [
        "print(\"請輸入數字：\")\n",
        "a = int(input())\n",
        "if a % 2 == 0:\n",
        "    print(str(a) + \"為偶數\")\n",
        "else:\n",
        "   print(str(a) + \"為奇數\")"
      ],
      "metadata": {
        "colab": {
          "base_uri": "https://localhost:8080/"
        },
        "id": "Z0a2aVyIkhrB",
        "outputId": "15b73e63-6f6e-42e2-9917-12d52b075253"
      },
      "execution_count": 1,
      "outputs": [
        {
          "output_type": "stream",
          "name": "stdout",
          "text": [
            "請輸入數字：\n",
            "2\n",
            "2為偶數\n"
          ]
        }
      ]
    },
    {
      "cell_type": "code",
      "source": [
        "print(\"今天會下雨嗎？(請輸入Y,y,N,n)\")\n",
        "rain = str(input())\n",
        "if rain == \"Y\" or rain == \"y\":\n",
        "    print(\"出門記得帶傘！\")\n",
        "elif rain == \"N\" or rain ==\"n\":\n",
        "   print(\"出門不用帶傘！\")\n",
        "else:\n",
        "  print(\"無法回答\")"
      ],
      "metadata": {
        "colab": {
          "base_uri": "https://localhost:8080/"
        },
        "id": "khccQF8HlKWA",
        "outputId": "e6217eba-a18a-4165-cd3e-75c7b17d62f5"
      },
      "execution_count": 6,
      "outputs": [
        {
          "output_type": "stream",
          "name": "stdout",
          "text": [
            "今天會下雨嗎？(請輸入Y,y,N,n)\n",
            "y\n",
            "出門記得帶傘！\n"
          ]
        }
      ]
    }
  ]
}