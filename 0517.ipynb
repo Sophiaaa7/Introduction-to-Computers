{
  "nbformat": 4,
  "nbformat_minor": 0,
  "metadata": {
    "colab": {
      "provenance": [],
      "authorship_tag": "ABX9TyNnuoABtjEvitznfgF3Qz1p",
      "include_colab_link": true
    },
    "kernelspec": {
      "name": "python3",
      "display_name": "Python 3"
    },
    "language_info": {
      "name": "python"
    }
  },
  "cells": [
    {
      "cell_type": "markdown",
      "metadata": {
        "id": "view-in-github",
        "colab_type": "text"
      },
      "source": [
        "<a href=\"https://colab.research.google.com/github/Sophiaaa7/Introduction-to-Computers/blob/main/0517.ipynb\" target=\"_parent\"><img src=\"https://colab.research.google.com/assets/colab-badge.svg\" alt=\"Open In Colab\"/></a>"
      ]
    },
    {
      "cell_type": "code",
      "source": [
        "print(\"0517\")"
      ],
      "metadata": {
        "colab": {
          "base_uri": "https://localhost:8080/"
        },
        "id": "Xj1p5Pnl5xT5",
        "outputId": "aba957f6-fb1f-4f97-9659-7887891c4623"
      },
      "execution_count": 3,
      "outputs": [
        {
          "output_type": "stream",
          "name": "stdout",
          "text": [
            "0517\n"
          ]
        }
      ]
    },
    {
      "cell_type": "code",
      "source": [
        "體溫 = int(input(\"請輸入體溫： \"))\n",
        "\n",
        "if 體溫 >= 37.5:\n",
        "       print(\"體溫過高！\")\n",
        "if 體溫 >= 37 and 體溫 <= 37.4:\n",
        "       print(\"體溫略高！\")\n",
        "elif 體溫 >= 34 and 體溫 <= 36.9:\n",
        "       print(\"體溫正常！\")\n",
        "else:\n",
        "       print(\"溫度異常，請重新量測！\")"
      ],
      "metadata": {
        "colab": {
          "base_uri": "https://localhost:8080/"
        },
        "id": "amXgvSnY_cTu",
        "outputId": "2fa804e4-6732-431a-c945-ccfb9b5ae55f"
      },
      "execution_count": 4,
      "outputs": [
        {
          "output_type": "stream",
          "name": "stdout",
          "text": [
            "請輸入體溫： 34\n",
            "體溫正常！\n"
          ]
        }
      ]
    },
    {
      "cell_type": "code",
      "execution_count": 2,
      "metadata": {
        "colab": {
          "base_uri": "https://localhost:8080/"
        },
        "id": "wOns7ulk2wJD",
        "outputId": "850f8220-9c61-40be-b403-28ff008c854e"
      },
      "outputs": [
        {
          "output_type": "stream",
          "name": "stdout",
          "text": [
            "score: 90\n",
            "Grade is: A\n"
          ]
        }
      ],
      "source": [
        "score = int(input(\"score: \"))\n",
        "if score >= 90:\n",
        "    print('Grade is: A')\n",
        "elif score >= 80:\n",
        "    print('Grade is: B')\n",
        "elif score >= 70:\n",
        "    print('Grade is: C')\n",
        "elif score >= 60:\n",
        "    print('Grade is: D')\n",
        "else:\n",
        "    print('Grade is: F')"
      ]
    },
    {
      "cell_type": "code",
      "source": [
        "score = int(input(\"請輸入成績: \"))\n",
        "if score >= 90:\n",
        "    print('Grade is: A')\n",
        "elif score >= 80 and score <= 89:\n",
        "    print('Grade is: B')\n",
        "elif score >= 70 and score <= 79:\n",
        "    print('Grade is: C')\n",
        "elif score >= 60 and score <= 69:\n",
        "    print('Grade is: D')\n",
        "else:\n",
        "    print('Grade is: F')"
      ],
      "metadata": {
        "colab": {
          "base_uri": "https://localhost:8080/"
        },
        "id": "4YRRobQgBdr6",
        "outputId": "c8bfa495-ac76-45fe-8ab4-b3c724cce331"
      },
      "execution_count": 6,
      "outputs": [
        {
          "output_type": "stream",
          "name": "stdout",
          "text": [
            "請輸入成績: 90\n",
            "Grade is: A\n"
          ]
        }
      ]
    },
    {
      "cell_type": "code",
      "source": [
        "月份 = int(input(\"請輸入月份： \"))\n",
        "\n",
        "if 月份 >= 3 and 月份 <= 5:\n",
        "       print(\"春天\")\n",
        "if 月份 >= 6 and 月份 <= 8:\n",
        "       print(\"夏天\")\n",
        "if 月份 >= 9 and 月份 <= 11:\n",
        "       print(\"秋天\")\n",
        "if 月份 >= 12 and 月份 <= 1:\n",
        "       print(\"冬天\")\n",
        "else:\n",
        "       print(\"月份不在範圍內！\")"
      ],
      "metadata": {
        "colab": {
          "base_uri": "https://localhost:8080/"
        },
        "id": "rs6BZcq56r8S",
        "outputId": "28b25707-004b-417b-ca97-78b7f3163264"
      },
      "execution_count": 13,
      "outputs": [
        {
          "output_type": "stream",
          "name": "stdout",
          "text": [
            "請輸入月份： 13\n",
            "月份不在範圍內！\n"
          ]
        }
      ]
    },
    {
      "cell_type": "code",
      "source": [
        "def calculate_tax(income):\n",
        "    if income >= 2000000:\n",
        "        tax_rate = 0.3\n",
        "    elif income >= 1000000:\n",
        "        tax_rate = 0.21\n",
        "    elif income >= 600000:\n",
        "        tax_rate = 0.13\n",
        "    elif income >= 300000:\n",
        "        tax_rate = 0.06\n",
        "    else:\n",
        "        tax_rate = 0.0\n",
        "    \n",
        "    tax = income * tax_rate\n",
        "    return tax\n",
        "\n",
        "# 讓使用者輸入收入金額\n",
        "income = int(input(\"請輸入收入金額：\"))\n",
        "\n",
        "# 呼叫計算稅金的函式並輸出結果\n",
        "tax_amount = calculate_tax(income)\n",
        "print(\"應繳稅金：\", tax_amount)\n"
      ],
      "metadata": {
        "colab": {
          "base_uri": "https://localhost:8080/"
        },
        "id": "SSLYa1WOP-Yx",
        "outputId": "8b90e4b4-4670-4fc0-bbb5-07e3fc3f112d"
      },
      "execution_count": 25,
      "outputs": [
        {
          "output_type": "stream",
          "name": "stdout",
          "text": [
            "請輸入收入金額：100000\n",
            "應繳稅金： 0.0\n"
          ]
        }
      ]
    },
    {
      "cell_type": "code",
      "source": [
        "print(\"今天會下雨嗎？(請輸入是,可能會,否,應該不會)\")\n",
        "rain = str(input())\n",
        "if rain == \"是\" or rain == \"可能會\":\n",
        "    print(\"出門記得帶傘！\")\n",
        "elif rain == \"否\" or rain ==\"應該不會\":\n",
        "   print(\"出門不用帶傘！\")\n",
        "else:\n",
        "  print(\"無法回答\")"
      ],
      "metadata": {
        "colab": {
          "base_uri": "https://localhost:8080/"
        },
        "id": "Z6gvnK6FQsfq",
        "outputId": "4a5f7581-aa8f-49df-c470-2187b2620d29"
      },
      "execution_count": 26,
      "outputs": [
        {
          "output_type": "stream",
          "name": "stdout",
          "text": [
            "今天會下雨嗎？(請輸入是,可能會,否,應該不會)\n",
            "是\n",
            "出門記得帶傘！\n"
          ]
        }
      ]
    }
  ]
}